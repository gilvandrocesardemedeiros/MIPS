{
  "nbformat": 4,
  "nbformat_minor": 0,
  "metadata": {
    "colab": {
      "name": "MIPS - 32 bits.ipynb",
      "provenance": [],
      "collapsed_sections": []
    },
    "kernelspec": {
      "name": "python3",
      "display_name": "Python 3"
    }
  },
  "cells": [
    {
      "cell_type": "markdown",
      "metadata": {
        "id": "198ZXS7Kop-D",
        "colab_type": "text"
      },
      "source": [
        "# Leitura dos dados"
      ]
    },
    {
      "cell_type": "code",
      "metadata": {
        "id": "ZpmyiXRrotxq",
        "colab_type": "code",
        "colab": {}
      },
      "source": [
        "#Biblioteca para ler os dados de teste\n",
        "import pandas as pd\n",
        "#Leitura das instruções no formato TXT e convertendo para um DataFrame\n",
        "teste = pd.read_csv(\"https://raw.githubusercontent.com/gilvandrocesardemedeiros/MIPS/master/teste.txt\", sep = \" \", \n",
        "            names = [\"Instruction\",\"Coluna1\",\"Coluna2\",\"Coluna3\"])\n",
        "#Retirando as vírgulas\n",
        "for j in teste.columns:\n",
        "  for i in teste.index:\n",
        "    teste.loc[i, j] = teste.loc[i, j].replace(\",\", \"\")\n",
        "#Instruções de teste\n",
        "teste.head(7)"
      ],
      "execution_count": 0,
      "outputs": []
    },
    {
      "cell_type": "markdown",
      "metadata": {
        "id": "_jFuQf1FoxoY",
        "colab_type": "text"
      },
      "source": [
        "# Funções Auxiliares"
      ]
    },
    {
      "cell_type": "code",
      "metadata": {
        "id": "8DlyYxAMjlwG",
        "colab_type": "code",
        "outputId": "5a10c6a3-838b-4d28-97db-e87abb5e1c4e",
        "colab": {
          "base_uri": "https://localhost:8080/",
          "height": 35
        }
      },
      "source": [
        "#Função para converter binário em inteiro\n",
        "def binToNum(binario):\n",
        "  num = 0\n",
        "  negativo = False\n",
        "  for i in range(len(binario)):\n",
        "    if binario[i] == \"b\":\n",
        "      negativo = True\n",
        "    else:\n",
        "      num = num + int(binario[i]) * pow(2, len(binario) - i - 1)\n",
        "  if negativo:\n",
        "    num = -1 * num\n",
        "  return num\n",
        "\n",
        "#Teste para função para conversão \n",
        "binToNum(\"1111\")"
      ],
      "execution_count": 2,
      "outputs": [
        {
          "output_type": "execute_result",
          "data": {
            "text/plain": [
              "15"
            ]
          },
          "metadata": {
            "tags": []
          },
          "execution_count": 2
        }
      ]
    },
    {
      "cell_type": "code",
      "metadata": {
        "id": "N639FL-PjmS6",
        "colab_type": "code",
        "outputId": "5a04b7b1-8b73-4546-8faa-83a70245bb57",
        "colab": {
          "base_uri": "https://localhost:8080/",
          "height": 35
        }
      },
      "source": [
        "#Função que transforma o número binário em uma quantidade \"numDigitos\" de díígitos (acrescentando zeros à esquerda)\n",
        "def binNormalizer(binario, numDigitos):\n",
        "  while len(binario) < numDigitos:\n",
        "    binario = \"0\" + binario\n",
        "  return binario\n",
        "\n",
        "#Teste para função\n",
        "binNormalizer(\"101\", 5)"
      ],
      "execution_count": 3,
      "outputs": [
        {
          "output_type": "execute_result",
          "data": {
            "text/plain": [
              "'00101'"
            ]
          },
          "metadata": {
            "tags": []
          },
          "execution_count": 3
        }
      ]
    },
    {
      "cell_type": "code",
      "metadata": {
        "id": "PEj98irVIOqq",
        "colab_type": "code",
        "outputId": "e4f272d7-961b-48e5-9a4f-2cac55b0ba34",
        "colab": {
          "base_uri": "https://localhost:8080/",
          "height": 269
        }
      },
      "source": [
        "#Decodificando as instruções em códigos de 32 bits\n",
        "\n",
        "#Dicionario que relaciona cada instrucao a um código de 6 bits (opcode)\n",
        "dictInst = {\"ADD\" : \"000001\", \"ADDI\" : \"000010\", \"SUB\" : \"000100\"}\n",
        "\n",
        "#Dicionário que relaciona cada registrador a um código binário de 5 bits\n",
        "dictRegs = {\"$zero\" : \"00000\", \"$t0\" : \"0\" + bin(8)[2:], \"$t1\" :\"0\" +  bin(9)[2:], \"$t2\" :\"0\" +  bin(10)[2:], \"$t3\" :\"0\" +  bin(11)[2:], \n",
        "            \"$t4\" :\"0\" +  bin(12)[2:], \"$t5\" : \"0\" + bin(13)[2:], \"$t6\" : \"0\" + bin(14)[2:], \"$t7\" :\"0\" +  bin(15)[2:], \"$s0\" : bin(16)[2:], \n",
        "            \"$s1\" : bin(17)[2:], \"$s2\" : bin(18)[2:], \"$s3\" : bin(19)[2:],\"$s4\" : bin(20)[2:], \"$s5\" : bin(21)[2:], \"$s6\" : bin(22)[2:], \n",
        "            \"$s7\" : bin(23)[2:], \"$t8\" : bin(24)[2:], \"$t9\" : bin(25)[2:]}\n",
        "\n",
        "#Funcao para decodificar códigos de teste em códigos binários\n",
        "def decodificador(codigos):\n",
        "  instrucoes = pd.DataFrame(index = codigos.index)\n",
        "  instrucoes[\"Instrucoes\"] = \"NaN\"\n",
        "  for i in codigos.index:\n",
        "    #Instrucoes tipo I\n",
        "    if codigos.loc[i, \"Instruction\"] == \"ADDI\":\n",
        "      #Identificando o valor imediato em binário a ser utilizado\n",
        "      imediato = bin(int(codigos.loc[i, \"Coluna3\"]))[2:]\n",
        "      #Garantindo que o valor imediato possua 16 bits\n",
        "      imediato = binNormalizer(imediato, 16)\n",
        "      #Identificando o registrador fonte e substituindo-o pelo código binário que o representa\n",
        "      rs = dictRegs[codigos.loc[i, \"Coluna2\"]]\n",
        "      #Identificando o registrador para o qual seráá atribuído o resultado da operação e substituindo-o pelo código binário que o representa\n",
        "      rt = dictRegs[codigos.loc[i, \"Coluna1\"]]\n",
        "      #Instrucoes tipo I: 6 bits (opcode) + 5 bits (rs) + 5 bits (rt) + 16 bits (imediato)\n",
        "      instrucoes.loc[i, \"Instrucoes\"] = dictInst[\"ADDI\"] + rs + rt + imediato\n",
        "\n",
        "    #Instrucoes tipo R\n",
        "    elif (codigos.loc[i, \"Instruction\"] == \"ADD\") or (codigos.loc[i, \"Instruction\"] == \"SUB\"):\n",
        "      #Padrão de opcode para instrução R\n",
        "      opcode = \"000000\"\n",
        "      #Registrador para o qual será destinado o resultado da operação\n",
        "      rd = dictRegs[codigos.loc[i, \"Coluna1\"]]\n",
        "      #Primeiro registrador para fornecer valor para ser operado\n",
        "      rs = dictRegs[codigos.loc[i, \"Coluna2\"]]\n",
        "      #Segundo registrador para fornecer valor para ser operado\n",
        "      rt = dictRegs[codigos.loc[i, \"Coluna3\"]]\n",
        "      #Shamt\n",
        "      shamt = \"00000\"\n",
        "      #Funcao - \"ADD\" ou \"SUB\"\n",
        "      funct = dictInst[codigos.loc[i, \"Instruction\"]]\n",
        "      #Instrucoes tipo R: 6 bits (opcode) + 5 bits (rs) + 5 bits (rt) + 5 bits (rd) + 5 bits (shamt) + 6 bits (funct)\n",
        "      instrucoes.loc[i, \"Instrucoes\"] = opcode + rs + rt + rd + shamt + funct\n",
        "  return instrucoes\n",
        "\n",
        "#Teste para o decodificador (código Assembly <-> Binário)\n",
        "decodificador(teste)"
      ],
      "execution_count": 4,
      "outputs": [
        {
          "output_type": "execute_result",
          "data": {
            "text/html": [
              "<div>\n",
              "<style scoped>\n",
              "    .dataframe tbody tr th:only-of-type {\n",
              "        vertical-align: middle;\n",
              "    }\n",
              "\n",
              "    .dataframe tbody tr th {\n",
              "        vertical-align: top;\n",
              "    }\n",
              "\n",
              "    .dataframe thead th {\n",
              "        text-align: right;\n",
              "    }\n",
              "</style>\n",
              "<table border=\"1\" class=\"dataframe\">\n",
              "  <thead>\n",
              "    <tr style=\"text-align: right;\">\n",
              "      <th></th>\n",
              "      <th>Instrucoes</th>\n",
              "    </tr>\n",
              "  </thead>\n",
              "  <tbody>\n",
              "    <tr>\n",
              "      <th>0</th>\n",
              "      <td>00001000000100010000000000001010</td>\n",
              "    </tr>\n",
              "    <tr>\n",
              "      <th>1</th>\n",
              "      <td>00001000000100100000000000000010</td>\n",
              "    </tr>\n",
              "    <tr>\n",
              "      <th>2</th>\n",
              "      <td>00001000000100110000000000001000</td>\n",
              "    </tr>\n",
              "    <tr>\n",
              "      <th>3</th>\n",
              "      <td>00001000000101000000000000000110</td>\n",
              "    </tr>\n",
              "    <tr>\n",
              "      <th>4</th>\n",
              "      <td>00000010001100100100000000000001</td>\n",
              "    </tr>\n",
              "    <tr>\n",
              "      <th>5</th>\n",
              "      <td>00000010011101000100100000000001</td>\n",
              "    </tr>\n",
              "    <tr>\n",
              "      <th>6</th>\n",
              "      <td>00000001000010011000000000000100</td>\n",
              "    </tr>\n",
              "  </tbody>\n",
              "</table>\n",
              "</div>"
            ],
            "text/plain": [
              "                         Instrucoes\n",
              "0  00001000000100010000000000001010\n",
              "1  00001000000100100000000000000010\n",
              "2  00001000000100110000000000001000\n",
              "3  00001000000101000000000000000110\n",
              "4  00000010001100100100000000000001\n",
              "5  00000010011101000100100000000001\n",
              "6  00000001000010011000000000000100"
            ]
          },
          "metadata": {
            "tags": []
          },
          "execution_count": 4
        }
      ]
    },
    {
      "cell_type": "markdown",
      "metadata": {
        "id": "nIl-jzhupDLq",
        "colab_type": "text"
      },
      "source": [
        "# Blocos de DataPath"
      ]
    },
    {
      "cell_type": "code",
      "metadata": {
        "id": "TWKUJO2k54tk",
        "colab_type": "code",
        "outputId": "487690ed-5b4a-4bd0-bfb7-90c6513e955b",
        "colab": {
          "base_uri": "https://localhost:8080/",
          "height": 54
        }
      },
      "source": [
        "#Contador de programa\n",
        "class PC:\n",
        "  def __init__(self):\n",
        "    self.cont = binNormalizer(\"0\", 32)\n",
        "    print(\"Contador de programa inicializado com valor \" + self.cont)\n",
        "  #Altera o valor do contador\n",
        "  def setCont(self, value):\n",
        "    self.cont = value\n",
        "    print(\"Contador de programa alterado para valor: \" + self.cont)\n",
        "\n",
        "#Teste para contador de programa\n",
        "contador = PC()\n",
        "contador.setCont(binNormalizer(bin(10)[2:], 32))"
      ],
      "execution_count": 5,
      "outputs": [
        {
          "output_type": "stream",
          "text": [
            "Contador de programa inicializado com valor 00000000000000000000000000000000\n",
            "Contador de programa alterado para valor: 00000000000000000000000000001010\n"
          ],
          "name": "stdout"
        }
      ]
    },
    {
      "cell_type": "code",
      "metadata": {
        "id": "_JSS8vrmABUV",
        "colab_type": "code",
        "colab": {
          "base_uri": "https://localhost:8080/",
          "height": 329
        },
        "outputId": "a4927088-b17a-4712-a4bd-339a06dc0ab5"
      },
      "source": [
        "#Bloco de instrução de memória \n",
        "class InstructionMemory:\n",
        "  def __init__(self, teste):  \n",
        "    self.AdressInstruction = binNormalizer(\"0\", 32)\n",
        "    print(\"Intruction Memory inicializado com instrução apontando para \" + self.AdressInstruction)\n",
        "    self.Instrucoes = decodificador(teste)\n",
        "    print(\"Instruções lidas e codificadas como a seguir: \")\n",
        "    print(self.Instrucoes)\n",
        "\n",
        "  def loadInstructions(self, AdrInst):\n",
        "    #Selecionando instrução apontada pelo PC\n",
        "    instrucaoAtual = self.Instrucoes.loc[binToNum(AdrInst), \"Instrucoes\"]\n",
        "    print(\"Instrução atual: \" + instrucaoAtual)\n",
        "    #Verificando se a instrução é do tipo R\n",
        "    if instrucaoAtual[:6] == \"000000\":\n",
        "      print(\"Instrução do tipo R\")\n",
        "      #Instrucoes tipo R: 6 bits (opcode) + 5 bits (rs) + 5 bits (rt) + 5 bits (rd) + 5 bits (shamt) + 6 bits (funct)\n",
        "      self.rs = instrucaoAtual[6:11]\n",
        "      print(\"rs: \" + self.rs)\n",
        "      self.rt = instrucaoAtual[11:16]\n",
        "      print(\"rt: \" + self.rt)\n",
        "      self.rd = instrucaoAtual[16:21]\n",
        "      print(\"rd: \" + self.rd)\n",
        "      self.schamt = instrucaoAtual[21:26]\n",
        "      print(\"schamt: \" + self.schamt)\n",
        "      self.funct = instrucaoAtual[-6:]\n",
        "      print(\"funct: \" + self.funct)\n",
        "    else:\n",
        "      print(\"Instrução do tipo I\")\n",
        "      #Instrucoes tipo I: 6 bits (opcode) + 5 bits (rs) + 5 bits (rt) + 16 bits (imediato)\n",
        "      self.rs = instrucaoAtual[6:11]\n",
        "      print(\"rs: \" + self.rs)\n",
        "      self.rt = instrucaoAtual[11:16]\n",
        "      print(\"rt: \" + self.rt)\n",
        "      self.imediato = instrucaoAtual[-16:]\n",
        "      print(\"imediato: \" + self.imediato)\n",
        "      self.funct = instrucaoAtual[:6]\n",
        "      print(\"funct: \" + self.funct)\n",
        "\n",
        "\n",
        "#Teste para instruction memory\n",
        "instMemory = InstructionMemory(teste)\n",
        "instMemory.loadInstructions(binNormalizer(\"5\", 32))"
      ],
      "execution_count": 6,
      "outputs": [
        {
          "output_type": "stream",
          "text": [
            "Intruction Memory inicializado com instrução apontando para 00000000000000000000000000000000\n",
            "Instruções lidas e codificadas como a seguir: \n",
            "                         Instrucoes\n",
            "0  00001000000100010000000000001010\n",
            "1  00001000000100100000000000000010\n",
            "2  00001000000100110000000000001000\n",
            "3  00001000000101000000000000000110\n",
            "4  00000010001100100100000000000001\n",
            "5  00000010011101000100100000000001\n",
            "6  00000001000010011000000000000100\n",
            "Instrução atual: 00000010011101000100100000000001\n",
            "Instrução do tipo R\n",
            "rs: 10011\n",
            "rt: 10100\n",
            "rd: 01001\n",
            "schamt: 00000\n",
            "funct: 000001\n"
          ],
          "name": "stdout"
        }
      ]
    },
    {
      "cell_type": "code",
      "metadata": {
        "id": "g2W2UVKj5Ars",
        "colab_type": "code",
        "colab": {
          "base_uri": "https://localhost:8080/",
          "height": 35
        },
        "outputId": "6f9a8320-6d01-47c6-d2cd-8d51a0d29ec4"
      },
      "source": [
        "class Registers:\n",
        "  def __init__(self):\n",
        "    #Registradores declarados conforme seus códigos binários de endereço\n",
        "    self.registradores = {\n",
        "        \"00000\" : binNormalizer(\"0\", 32), #$zero\n",
        "        \"0\" + bin(8)[2:] : binNormalizer(\"0\", 32), #$t0\n",
        "        \"0\" +  bin(9)[2:] : binNormalizer(\"0\", 32), #$t1\n",
        "        \"0\" +  bin(10)[2:] : binNormalizer(\"0\", 32), #$t2\n",
        "        \"0\" +  bin(11)[2:] : binNormalizer(\"0\", 32), #$t3\n",
        "        \"0\" +  bin(12)[2:] : binNormalizer(\"0\", 32), #$t4\n",
        "        \"0\" + bin(13)[2:] : binNormalizer(\"0\", 32), #$t5\n",
        "        \"0\" + bin(14)[2:]: binNormalizer(\"0\", 32), #$t6\n",
        "        \"0\" +  bin(15)[2:] : binNormalizer(\"0\", 32), #$t7\n",
        "        bin(16)[2:] : binNormalizer(\"0\", 32), #$s0 \n",
        "        bin(17)[2:] : binNormalizer(\"0\", 32), #$s1\n",
        "        bin(18)[2:] : binNormalizer(\"0\", 32), #$s2\n",
        "        bin(19)[2:] : binNormalizer(\"0\", 32), #$s3\n",
        "        bin(20)[2:] : binNormalizer(\"0\", 32), #$s4\n",
        "        bin(21)[2:] : binNormalizer(\"0\", 32), #$s5\n",
        "        bin(22)[2:] : binNormalizer(\"0\", 32), #$s6 \n",
        "        bin(23)[2:] : binNormalizer(\"0\", 32), #$s7\n",
        "        bin(24)[2:] : binNormalizer(\"0\", 32), #$t8\n",
        "        bin(25)[2:] : binNormalizer(\"0\", 32) #$t9\n",
        "    }\n",
        "    \n",
        "#Teste para Registers\n",
        "reg = Registers()\n",
        "print(\"Valor armazenado em 01000 ($t0): \" + reg.registradores[\"01000\"])"
      ],
      "execution_count": 7,
      "outputs": [
        {
          "output_type": "stream",
          "text": [
            "Valor armazenado em 01000 ($t0): 00000000000000000000000000000000\n"
          ],
          "name": "stdout"
        }
      ]
    },
    {
      "cell_type": "code",
      "metadata": {
        "id": "RC-T5vsA2HEW",
        "colab_type": "code",
        "colab": {
          "base_uri": "https://localhost:8080/",
          "height": 127
        },
        "outputId": "594823df-37b9-4f45-c00f-3b9e1dd371f2"
      },
      "source": [
        "class Alu:\n",
        "  def __init__(self):\n",
        "    self.input1 = binNormalizer(\"0\", 32)\n",
        "    self.input2 = binNormalizer(\"0\", 32)\n",
        "    self.funct = binNormalizer(\"0\", 6)\n",
        "    self.output = binNormalizer(\"0\", 32)\n",
        "    print(\"Alu inicializada com entrada 1 = \" + self.input1 + \" e entrada 2 = \" + self.input2)\n",
        "    print(\"Código de operação inicial: \" + self.funct)\n",
        "    print(\"Resultado inicial: \" + self.output)\n",
        "  \n",
        "  def setParameters(self, in1, in2):\n",
        "    self.input1 = in1\n",
        "    self.input2 = in2\n",
        "    print(\"Alu lendo dados \" + in1 + \" e \" + in2)\n",
        "\n",
        "  def operation(self, op):\n",
        "    #Operacao de ADD\n",
        "    if op == \"000001\":\n",
        "      print(\"Operação: ADD, com entradas (convertidas para decimal): \" + str(binToNum(self.input1)) + \" e \" + str(binToNum(self.input2)))\n",
        "      resultadoNumerico = binToNum(self.input1) + binToNum(self.input2)\n",
        "      self.output = binNormalizer(bin(resultadoNumerico)[2:], 32)\n",
        "      print(\"Resultado da Alu: Decimal (\" + str(resultadoNumerico) + \"), Binário: (\" + self.output + \")\")\n",
        "    \n",
        "    #Operacao de ADDI\n",
        "    if op == \"000010\":\n",
        "      print(\"Operação: ADDI, com entradas (convertidas para decimal): \" + str(binToNum(self.input1)) + \" e \" + str(binToNum(self.input2)))\n",
        "      resultadoNumerico = binToNum(self.input1) + binToNum(self.input2)\n",
        "      self.output = binNormalizer(bin(resultadoNumerico)[2:], 32)\n",
        "      print(\"Resultado da Alu: Decimal (\" + str(resultadoNumerico) + \"), Binário: (\" + self.output + \")\")\n",
        "    \n",
        "    #Operacao de SUB\n",
        "    if op == \"000100\":\n",
        "      print(\"Operação: SUB, com entradas (convertidas para decimal): \" + str(binToNum(self.input1)) + \" e \" + str(binToNum(self.input2)))\n",
        "      resultadoNumerico = binToNum(self.input1) - binToNum(self.input2)\n",
        "      self.output = binNormalizer(bin(resultadoNumerico)[2:], 32)\n",
        "      print(\"Resultado da Alu: Decimal (\" + str(resultadoNumerico) + \"), Binário: (\" + self.output + \")\")\n",
        "\n",
        "#Teste para Alu\n",
        "reg = Alu()\n",
        "reg.setParameters(binNormalizer(\"01\", 32), binNormalizer(\"10\", 32))\n",
        "reg.operation(\"000001\")"
      ],
      "execution_count": 8,
      "outputs": [
        {
          "output_type": "stream",
          "text": [
            "Alu inicializada com entrada 1 = 00000000000000000000000000000000 e entrada 2 = 00000000000000000000000000000000\n",
            "Código de operação inicial: 000000\n",
            "Resultado inicial: 00000000000000000000000000000000\n",
            "Alu lendo dados 00000000000000000000000000000001 e 00000000000000000000000000000010\n",
            "Operação: ADD, com entradas (convertidas para decimal): 1 e 2\n",
            "Resultado da Alu: Decimal (3), Binário: (00000000000000000000000000000011)\n"
          ],
          "name": "stdout"
        }
      ]
    },
    {
      "cell_type": "code",
      "metadata": {
        "id": "JJUCCT1VojWm",
        "colab_type": "code",
        "colab": {
          "base_uri": "https://localhost:8080/",
          "height": 110
        },
        "outputId": "5937f72a-6010-468b-e055-12a33e27b010"
      },
      "source": [
        "#Objeto \"Add\"\n",
        "class Add:\n",
        "  def __init__(self):\n",
        "    self.contador = binNormalizer(\"0\", 32)\n",
        "    self.input1 = binNormalizer(\"1\", 32) #Valor de incremento. Sempre incrementar de 1 em 1\n",
        "    self.output = binNormalizer(\"0\", 32)\n",
        "    print(\"Bloco Add adicionado, com entrada do contador = \" + self.contador + \", entrada 1 = \" + self.input1 + \" e saída: \" + self.output)\n",
        "\n",
        "  def operation(self, cont):\n",
        "    print(\"ADD entrando em operação\")\n",
        "    self.contador = cont\n",
        "    print(\"Estado atual do contador: \" + self.contador)\n",
        "    resultadoNumerico = binToNum(self.contador) + binToNum(self.input1)\n",
        "    self.output = binNormalizer(bin(resultadoNumerico)[2:], 32)\n",
        "    print(\"Saída de ADD: \" + self.output)\n",
        "\n",
        "#Teste para Add\n",
        "add = Add()\n",
        "add.operation(binNormalizer(\"01\", 32))"
      ],
      "execution_count": 9,
      "outputs": [
        {
          "output_type": "stream",
          "text": [
            "Bloco Add adicionado, com entrada do contador = 00000000000000000000000000000000, entrada 1 = 00000000000000000000000000000001 e saída: 00000000000000000000000000000000\n",
            "ADD entrando em operação\n",
            "Estado atual do contador: 00000000000000000000000000000001\n",
            "Saída de ADD: 00000000000000000000000000000010\n"
          ],
          "name": "stdout"
        }
      ]
    },
    {
      "cell_type": "markdown",
      "metadata": {
        "id": "QribgRT2pMKs",
        "colab_type": "text"
      },
      "source": [
        "# DataPath"
      ]
    },
    {
      "cell_type": "code",
      "metadata": {
        "id": "W14Whw1PHeNc",
        "colab_type": "code",
        "colab": {}
      },
      "source": [
        "class DataPath:\n",
        "  def __init__(self):\n",
        "    #Inicializando blocos\n",
        "    self.pc = PC()\n",
        "    self.reg = Registers()\n",
        "    self.alu = Alu()\n",
        "    self.add = Add()\n",
        "  \n",
        "  def operateInstructions(self, teste):\n",
        "    #Passando as instruções para a memória\n",
        "    self.instmemory = InstructionMemory(teste)\n",
        "    #Percorrendo todas as instruções\n",
        "    for i in teste.index:\n",
        "      self.instmemory.loadInstructions(self.pc.cont)\n",
        "      #Instruções tipo R\n",
        "      if self.instmemory.funct == \"000001\" or self.instmemory.funct == \"000100\":\n",
        "        #Mandando para a ALU os dados nos registradores rs e rt\n",
        "        self.alu.setParameters(self.reg.registradores[self.instmemory.rs], self.reg.registradores[self.instmemory.rt])\n",
        "        #Mandando para a ALU a operação a ser realizada\n",
        "        self.alu.operation(self.instmemory.funct)\n",
        "        #Guardando no registrador rd o resultado da operação da ALU\n",
        "        print(\"DEBUG IS ON THE TABLE \" +self.instmemory.rd)\n",
        "        self.reg.registradores[self.instmemory.rd] = self.alu.output\n",
        "        #Valor armazenado no registrador rd\n",
        "        print(\"Armazenando \" + self.reg.registradores[self.instmemory.rd] + \" no registrador \" + self.instmemory.rd)\n",
        "        #Incrementando \"1\" no contador e mandando para a saída do Add\n",
        "        self.add.operation(self.pc.cont)\n",
        "        #Passando a saída do Add para entrada do PC\n",
        "        self.pc.setCont(self.add.output)\n",
        "      else: #Instruções tipo I\n",
        "        #Mandando para a ALU os dados no registrador rs e o imediato\n",
        "        self.alu.setParameters(self.reg.registradores[self.instmemory.rs], self.instmemory.imediato)\n",
        "        #Mandando para a ALU a operação a ser realizada\n",
        "        self.alu.operation(self.instmemory.funct)\n",
        "        #Guardando no registrador rt o resultado da operação da ALU\n",
        "        self.reg.registradores[self.instmemory.rt] = self.alu.output\n",
        "        #Valor armazenado no registrador rt\n",
        "        print(\"Armazenando \" + self.reg.registradores[self.instmemory.rt] + \" no registrador \" + self.instmemory.rt)\n",
        "        #Incrementando \"1\" no contador e mandando para a saída do Add\n",
        "        self.add.operation(self.pc.cont)\n",
        "        #Passando a saída do Add para entrada do PC\n",
        "        self.pc.setCont(self.add.output)\n",
        "\n",
        "  def visualizarRegistradores(self):\n",
        "    invDictRegs = {\"00000\" : \"$zero\",\n",
        "                     \"0\" + bin(8)[2:] :  \"$t0\",\n",
        "                     \"0\" +  bin(9)[2:] :  \"$t1\", \n",
        "                     \"0\" +  bin(10)[2:] : \"$t2\", \n",
        "                     \"0\" +  bin(11)[2:] : \"$t3\", \n",
        "                     \"0\" +  bin(12)[2:] : \"$t4\",\n",
        "                     \"0\" + bin(13)[2:] : \"$t5\",\n",
        "                     \"0\" + bin(14)[2:] : \"$t6\",\n",
        "                     \"0\" +  bin(15)[2:] : \"$t7\", \n",
        "                     bin(16)[2:] : \"$s0\", \n",
        "                     bin(17)[2:] : \"$s1\", \n",
        "                     bin(18)[2:] : \"$s2\", \n",
        "                     bin(19)[2:] : \"$s3\",\n",
        "                     bin(20)[2:] : \"$s4\", \n",
        "                     bin(21)[2:] : \"$s5\", \n",
        "                     bin(22)[2:] : \"$s6\", \n",
        "                     bin(23)[2:] : \"$s7\", \n",
        "                     bin(24)[2:] : \"$t8\", \n",
        "                     bin(25)[2:] : \"$t9\"}\n",
        "    for i in self.reg.registradores.keys():\n",
        "      print(invDictRegs[i] + \" = \" + str(binToNum(self.reg.registradores[i])))"
      ],
      "execution_count": 0,
      "outputs": []
    },
    {
      "cell_type": "code",
      "metadata": {
        "id": "T97d3kRNP3eu",
        "colab_type": "code",
        "colab": {
          "base_uri": "https://localhost:8080/",
          "height": 129
        },
        "outputId": "42b2952a-cf7f-4d2a-99fa-48f5fc060ec3"
      },
      "source": [
        "dp = DataPath()"
      ],
      "execution_count": 11,
      "outputs": [
        {
          "output_type": "stream",
          "text": [
            "Contador de programa inicializado com valor 00000000000000000000000000000000\n",
            "Alu inicializada com entrada 1 = 00000000000000000000000000000000 e entrada 2 = 00000000000000000000000000000000\n",
            "Código de operação inicial: 000000\n",
            "Resultado inicial: 00000000000000000000000000000000\n",
            "Bloco Add adicionado, com entrada do contador = 00000000000000000000000000000000, entrada 1 = 00000000000000000000000000000001 e saída: 00000000000000000000000000000000\n"
          ],
          "name": "stdout"
        }
      ]
    },
    {
      "cell_type": "code",
      "metadata": {
        "id": "EUTbLTYbP9Fr",
        "colab_type": "code",
        "colab": {
          "base_uri": "https://localhost:8080/",
          "height": 1000
        },
        "outputId": "7bae8a77-b9f6-48a8-eab6-db98835b1565"
      },
      "source": [
        "dp.operateInstructions(teste)"
      ],
      "execution_count": 12,
      "outputs": [
        {
          "output_type": "stream",
          "text": [
            "Intruction Memory inicializado com instrução apontando para 00000000000000000000000000000000\n",
            "Instruções lidas e codificadas como a seguir: \n",
            "                         Instrucoes\n",
            "0  00001000000100010000000000001010\n",
            "1  00001000000100100000000000000010\n",
            "2  00001000000100110000000000001000\n",
            "3  00001000000101000000000000000110\n",
            "4  00000010001100100100000000000001\n",
            "5  00000010011101000100100000000001\n",
            "6  00000001000010011000000000000100\n",
            "Instrução atual: 00001000000100010000000000001010\n",
            "Instrução do tipo I\n",
            "rs: 00000\n",
            "rt: 10001\n",
            "imediato: 0000000000001010\n",
            "funct: 000010\n",
            "Alu lendo dados 00000000000000000000000000000000 e 0000000000001010\n",
            "Operação: ADDI, com entradas (convertidas para decimal): 0 e 10\n",
            "Resultado da Alu: Decimal (10), Binário: (00000000000000000000000000001010)\n",
            "Armazenando 00000000000000000000000000001010 no registrador 10001\n",
            "ADD entrando em operação\n",
            "Estado atual do contador: 00000000000000000000000000000000\n",
            "Saída de ADD: 00000000000000000000000000000001\n",
            "Contador de programa alterado para valor: 00000000000000000000000000000001\n",
            "Instrução atual: 00001000000100100000000000000010\n",
            "Instrução do tipo I\n",
            "rs: 00000\n",
            "rt: 10010\n",
            "imediato: 0000000000000010\n",
            "funct: 000010\n",
            "Alu lendo dados 00000000000000000000000000000000 e 0000000000000010\n",
            "Operação: ADDI, com entradas (convertidas para decimal): 0 e 2\n",
            "Resultado da Alu: Decimal (2), Binário: (00000000000000000000000000000010)\n",
            "Armazenando 00000000000000000000000000000010 no registrador 10010\n",
            "ADD entrando em operação\n",
            "Estado atual do contador: 00000000000000000000000000000001\n",
            "Saída de ADD: 00000000000000000000000000000010\n",
            "Contador de programa alterado para valor: 00000000000000000000000000000010\n",
            "Instrução atual: 00001000000100110000000000001000\n",
            "Instrução do tipo I\n",
            "rs: 00000\n",
            "rt: 10011\n",
            "imediato: 0000000000001000\n",
            "funct: 000010\n",
            "Alu lendo dados 00000000000000000000000000000000 e 0000000000001000\n",
            "Operação: ADDI, com entradas (convertidas para decimal): 0 e 8\n",
            "Resultado da Alu: Decimal (8), Binário: (00000000000000000000000000001000)\n",
            "Armazenando 00000000000000000000000000001000 no registrador 10011\n",
            "ADD entrando em operação\n",
            "Estado atual do contador: 00000000000000000000000000000010\n",
            "Saída de ADD: 00000000000000000000000000000011\n",
            "Contador de programa alterado para valor: 00000000000000000000000000000011\n",
            "Instrução atual: 00001000000101000000000000000110\n",
            "Instrução do tipo I\n",
            "rs: 00000\n",
            "rt: 10100\n",
            "imediato: 0000000000000110\n",
            "funct: 000010\n",
            "Alu lendo dados 00000000000000000000000000000000 e 0000000000000110\n",
            "Operação: ADDI, com entradas (convertidas para decimal): 0 e 6\n",
            "Resultado da Alu: Decimal (6), Binário: (00000000000000000000000000000110)\n",
            "Armazenando 00000000000000000000000000000110 no registrador 10100\n",
            "ADD entrando em operação\n",
            "Estado atual do contador: 00000000000000000000000000000011\n",
            "Saída de ADD: 00000000000000000000000000000100\n",
            "Contador de programa alterado para valor: 00000000000000000000000000000100\n",
            "Instrução atual: 00000010001100100100000000000001\n",
            "Instrução do tipo R\n",
            "rs: 10001\n",
            "rt: 10010\n",
            "rd: 01000\n",
            "schamt: 00000\n",
            "funct: 000001\n",
            "Alu lendo dados 00000000000000000000000000001010 e 00000000000000000000000000000010\n",
            "Operação: ADD, com entradas (convertidas para decimal): 10 e 2\n",
            "Resultado da Alu: Decimal (12), Binário: (00000000000000000000000000001100)\n",
            "DEBUG IS ON THE TABLE 01000\n",
            "Armazenando 00000000000000000000000000001100 no registrador 01000\n",
            "ADD entrando em operação\n",
            "Estado atual do contador: 00000000000000000000000000000100\n",
            "Saída de ADD: 00000000000000000000000000000101\n",
            "Contador de programa alterado para valor: 00000000000000000000000000000101\n",
            "Instrução atual: 00000010011101000100100000000001\n",
            "Instrução do tipo R\n",
            "rs: 10011\n",
            "rt: 10100\n",
            "rd: 01001\n",
            "schamt: 00000\n",
            "funct: 000001\n",
            "Alu lendo dados 00000000000000000000000000001000 e 00000000000000000000000000000110\n",
            "Operação: ADD, com entradas (convertidas para decimal): 8 e 6\n",
            "Resultado da Alu: Decimal (14), Binário: (00000000000000000000000000001110)\n",
            "DEBUG IS ON THE TABLE 01001\n",
            "Armazenando 00000000000000000000000000001110 no registrador 01001\n",
            "ADD entrando em operação\n",
            "Estado atual do contador: 00000000000000000000000000000101\n",
            "Saída de ADD: 00000000000000000000000000000110\n",
            "Contador de programa alterado para valor: 00000000000000000000000000000110\n",
            "Instrução atual: 00000001000010011000000000000100\n",
            "Instrução do tipo R\n",
            "rs: 01000\n",
            "rt: 01001\n",
            "rd: 10000\n",
            "schamt: 00000\n",
            "funct: 000100\n",
            "Alu lendo dados 00000000000000000000000000001100 e 00000000000000000000000000001110\n",
            "Operação: SUB, com entradas (convertidas para decimal): 12 e 14\n",
            "Resultado da Alu: Decimal (-2), Binário: (00000000000000000000000000000b10)\n",
            "DEBUG IS ON THE TABLE 10000\n",
            "Armazenando 00000000000000000000000000000b10 no registrador 10000\n",
            "ADD entrando em operação\n",
            "Estado atual do contador: 00000000000000000000000000000110\n",
            "Saída de ADD: 00000000000000000000000000000111\n",
            "Contador de programa alterado para valor: 00000000000000000000000000000111\n"
          ],
          "name": "stdout"
        }
      ]
    },
    {
      "cell_type": "code",
      "metadata": {
        "id": "1EjXTSGPcSEj",
        "colab_type": "code",
        "colab": {
          "base_uri": "https://localhost:8080/",
          "height": 366
        },
        "outputId": "95bf3429-c86d-4c78-cbec-c8d515d744b8"
      },
      "source": [
        "dp.visualizarRegistradores()"
      ],
      "execution_count": 13,
      "outputs": [
        {
          "output_type": "stream",
          "text": [
            "$zero = 0\n",
            "$t0 = 12\n",
            "$t1 = 14\n",
            "$t2 = 0\n",
            "$t3 = 0\n",
            "$t4 = 0\n",
            "$t5 = 0\n",
            "$t6 = 0\n",
            "$t7 = 0\n",
            "$s0 = -2\n",
            "$s1 = 10\n",
            "$s2 = 2\n",
            "$s3 = 8\n",
            "$s4 = 6\n",
            "$s5 = 0\n",
            "$s6 = 0\n",
            "$s7 = 0\n",
            "$t8 = 0\n",
            "$t9 = 0\n"
          ],
          "name": "stdout"
        }
      ]
    }
  ]
}